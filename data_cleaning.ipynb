{
 "cells": [
  {
   "cell_type": "code",
   "execution_count": 1,
   "id": "6e79745c",
   "metadata": {},
   "outputs": [],
   "source": [
    "import pandas as pd\n",
    "import os"
   ]
  },
  {
   "cell_type": "code",
   "execution_count": 11,
   "id": "7754b107",
   "metadata": {},
   "outputs": [],
   "source": [
    "dummy_df = pd.read_csv(r'master_data_scraping_Result/master_activity.csv') "
   ]
  },
  {
   "cell_type": "code",
   "execution_count": 9,
   "id": "a78c6608",
   "metadata": {},
   "outputs": [
    {
     "name": "stdout",
     "output_type": "stream",
     "text": [
      "Index(['title', 'review_point', 'review_total', 'sub_category', 'address',\n",
      "       'contact_number', 'open_hours', 'Service options', 'Offerings',\n",
      "       'Dining options', 'Amenities', 'Atmosphere', 'Crowd', 'Payments',\n",
      "       'coordinate', 'link', 'Accessibility', 'regency', 'price_level', 'site',\n",
      "       'Planning', 'short_description', 'Highlights', 'check_in',\n",
      "       'From the business', 'metadata', 'Popular for', 'check_out',\n",
      "       'amenities'],\n",
      "      dtype='object')\n"
     ]
    }
   ],
   "source": [
    "print(dummy_df.columns)"
   ]
  },
  {
   "cell_type": "code",
   "execution_count": 19,
   "id": "98dd9758",
   "metadata": {},
   "outputs": [],
   "source": [
    "validation_df = pd.read_csv(r'data_scraping_result/PC 1/restaurant.csv')"
   ]
  },
  {
   "cell_type": "code",
   "execution_count": 12,
   "id": "a714aef8",
   "metadata": {},
   "outputs": [
    {
     "name": "stdout",
     "output_type": "stream",
     "text": [
      "Index(['title', 'review_point', 'review_total', 'sub_category', 'address',\n",
      "       'contact_number', 'open_hours', 'metadata', 'coordinate', 'regency',\n",
      "       'link', 'site', 'amenities', 'check_in', 'check_out', 'Service options',\n",
      "       'Offerings', 'Dining options', 'Amenities', 'Atmosphere', 'Crowd',\n",
      "       'Planning', 'Payments', 'price_level', 'Highlights', 'Accessibility',\n",
      "       'short_description', 'From the business', 'about', 'Recycling',\n",
      "       'Popular for'],\n",
      "      dtype='object')\n"
     ]
    }
   ],
   "source": [
    "print(dummy_df.columns)"
   ]
  },
  {
   "cell_type": "code",
   "execution_count": 13,
   "id": "db310231",
   "metadata": {},
   "outputs": [],
   "source": [
    "villa_col_name = ['title','address','contact_number','amenities','coordinate','regency']\n",
    "food_col_name = ['title','short_description','adress','contact_number','price_level', 'sub_category','amenities','regency','coordinate','open_hours']\n",
    "wow_col_name = ['title','sub_category','short_description','address','contact_number','site','amenities','regency','coordinate','open_hours']"
   ]
  },
  {
   "cell_type": "code",
   "execution_count": 15,
   "id": "e2de578c",
   "metadata": {},
   "outputs": [],
   "source": [
    "new_df = validation_df[villa_col_name]"
   ]
  },
  {
   "cell_type": "code",
   "execution_count": 18,
   "id": "1df8fe25",
   "metadata": {},
   "outputs": [
    {
     "name": "stdout",
     "output_type": "stream",
     "text": [
      "0     28H5+RR6, Jl. Ir. Soekarno, Saumlaki, Tanimbar...\n",
      "1                M927+68J, Kairatu, West Seram, Maluku \n",
      "2     48VJ+4F, Tumbur, Wer Tamrian, Tanimbar Islands...\n",
      "3     J9PG+442, Jl. Trans Seram, Kairatu, Kec. Kaira...\n",
      "4     48VJ+4F, Tumbur, Wer Tamrian, Tanimbar Islands...\n",
      "5                M96G+9V6, Kairatu, West Seram, Maluku \n",
      "6     Jl. Ir. Soekarno, Olilit, Tanimbar Sel., Kab. ...\n",
      "7                J9PF+9Q7, Kairatu, West Seram, Maluku \n",
      "8     38JQ+43P, Kabiarat Raya, South Tanimbar, Tanim...\n",
      "9                J9X7+HPW, Kairatu, West Seram, Maluku \n",
      "10    284H+WGC, Jl. Atek Lawanaman, Olilit, Tanimbar...\n",
      "11     W658+5J9, Etty, Seram Barat, West Seram, Maluku \n",
      "12    3877+7JW, Jl. Boediono, Lauran, Tanimbar Sel.,...\n",
      "13     W5VR+PW2, Piru, Seram Barat, West Seram, Maluku \n",
      "14    Jl. Umalas Klecung No.168, Kerobokan Kelod, Ke...\n",
      "15    X5F9+M5M, Jln Pendidikan, Piru, Seram Barat, W...\n",
      "16    279W+JCR, Jl. Bhineka, Saumlaki, Tanimbar Sel....\n",
      "17    Jl. Trans Seram, Waimital, Kec. Kairatu, Kabup...\n",
      "18    Jl. Nakula 5 No.8x, Legian, Kec. Kuta, Kabupat...\n",
      "19     M89W+CM2, Waipirit, Kairatu, West Seram, Maluku \n",
      "Name: address, dtype: object\n"
     ]
    }
   ],
   "source": [
    "print(new_df['address'].head(20))"
   ]
  },
  {
   "cell_type": "code",
   "execution_count": null,
   "id": "9ada6aa1",
   "metadata": {},
   "outputs": [],
   "source": []
  }
 ],
 "metadata": {
  "kernelspec": {
   "display_name": "Python 3 (ipykernel)",
   "language": "python",
   "name": "python3"
  },
  "language_info": {
   "codemirror_mode": {
    "name": "ipython",
    "version": 3
   },
   "file_extension": ".py",
   "mimetype": "text/x-python",
   "name": "python",
   "nbconvert_exporter": "python",
   "pygments_lexer": "ipython3",
   "version": "3.8.9"
  }
 },
 "nbformat": 4,
 "nbformat_minor": 5
}
